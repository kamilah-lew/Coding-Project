{
 "cells": [
  {
   "cell_type": "code",
   "execution_count": 39,
   "metadata": {},
   "outputs": [],
   "source": [
    "gamers = []"
   ]
  },
  {
   "cell_type": "code",
   "execution_count": 40,
   "metadata": {},
   "outputs": [],
   "source": [
    "def add_gamer(gamer, gamer_list):\n",
    "    if gamer.get(\"name\") and gamer.get(\"availability\"):\n",
    "        gamer_list.append(gamer)\n",
    "    else: \n",
    "        print(\"gamer missing critical information\")"
   ]
  },
  {
   "cell_type": "code",
   "execution_count": 41,
   "metadata": {},
   "outputs": [
    {
     "name": "stdout",
     "output_type": "stream",
     "text": [
      "[{'name': 'Kimberly Warner', 'availability': ['Monday', 'Tuesday', 'Friday']}]\n"
     ]
    }
   ],
   "source": [
    "kimberly = {\n",
    "    'name': \"Kimberly Warner\",\n",
    "    'availability': [\"Monday\", \"Tuesday\", \"Friday\"]\n",
    "}\n",
    "add_gamer(kimberly, gamers)\n",
    "\n",
    "print(gamers)\n"
   ]
  },
  {
   "cell_type": "code",
   "execution_count": 42,
   "metadata": {},
   "outputs": [],
   "source": [
    "add_gamer({'name':'Thomas Nelson','availability': [\"Tuesday\", \"Thursday\", \"Saturday\"]}, gamers)\n",
    "add_gamer({'name':'Joyce Sellers','availability': [\"Monday\", \"Wednesday\", \"Friday\", \"Saturday\"]}, gamers)\n",
    "add_gamer({'name':'Michelle Reyes','availability': [\"Wednesday\", \"Thursday\", \"Sunday\"]}, gamers)\n",
    "add_gamer({'name':'Stephen Adams','availability': [\"Thursday\", \"Saturday\"]}, gamers)\n",
    "add_gamer({'name': 'Joanne Lynn', 'availability': [\"Monday\", \"Thursday\"]}, gamers)\n",
    "add_gamer({'name':'Latasha Bryan','availability': [\"Monday\", \"Sunday\"]}, gamers)\n",
    "add_gamer({'name':'Crystal Brewer','availability': [\"Thursday\", \"Friday\", \"Saturday\"]}, gamers)\n",
    "add_gamer({'name':'James Barnes Jr.','availability': [\"Tuesday\", \"Wednesday\", \"Thursday\", \"Sunday\"]}, gamers)\n",
    "add_gamer({'name':'Michel Trujillo','availability': [\"Monday\", \"Tuesday\", \"Wednesday\"]}, gamers)"
   ]
  },
  {
   "cell_type": "code",
   "execution_count": 43,
   "metadata": {},
   "outputs": [],
   "source": [
    "def build_daily_frequency_table():\n",
    "    return {\n",
    "        \"Monday\": 0,\n",
    "        \"Tuesday\": 0,\n",
    "        \"Wednesday\": 0,\n",
    "        \"Thursday\": 0, \n",
    "        \"Friday\": 0, \n",
    "        \"Saturday\": 0, \n",
    "        \"Sunday\": 0\n",
    "    }\n",
    "count_availability = build_daily_frequency_table()"
   ]
  },
  {
   "cell_type": "code",
   "execution_count": 44,
   "metadata": {},
   "outputs": [],
   "source": [
    "def calculate_availability(gamers_list, available_frequency):\n",
    "    for gamer in gamers_list:\n",
    "        for day in gamer[\"availability\"]:\n",
    "            available_frequency[day] += 1"
   ]
  },
  {
   "cell_type": "code",
   "execution_count": 45,
   "metadata": {
    "scrolled": true
   },
   "outputs": [
    {
     "name": "stdout",
     "output_type": "stream",
     "text": [
      "{'Monday': 5, 'Tuesday': 4, 'Wednesday': 4, 'Thursday': 6, 'Friday': 3, 'Saturday': 4, 'Sunday': 3}\n"
     ]
    }
   ],
   "source": [
    "calculate_availability(gamers, count_availability)\n",
    "print(count_availability)"
   ]
  },
  {
   "cell_type": "code",
   "execution_count": 46,
   "metadata": {},
   "outputs": [],
   "source": [
    "def find_best_night(availability_table):\n",
    "    best_availability = 0\n",
    "    for day, availability in availability_table.items():\n",
    "        if availability > best_availability:\n",
    "            best_night = day\n",
    "            best_availability = availability \n",
    "            return best_night\n"
   ]
  },
  {
   "cell_type": "code",
   "execution_count": 47,
   "metadata": {},
   "outputs": [
    {
     "name": "stdout",
     "output_type": "stream",
     "text": [
      "Monday\n"
     ]
    }
   ],
   "source": [
    "game_night = find_best_night(count_availability)\n",
    "\n",
    "print(game_night)\n"
   ]
  },
  {
   "cell_type": "code",
   "execution_count": 51,
   "metadata": {},
   "outputs": [
    {
     "name": "stdout",
     "output_type": "stream",
     "text": [
      "[{'name': 'Kimberly Warner', 'availability': ['Monday', 'Tuesday', 'Friday']}, {'name': 'Joyce Sellers', 'availability': ['Monday', 'Wednesday', 'Friday', 'Saturday']}, {'name': 'Joanne Lynn', 'availability': ['Monday', 'Thursday']}, {'name': 'Latasha Bryan', 'availability': ['Monday', 'Sunday']}, {'name': 'Michel Trujillo', 'availability': ['Monday', 'Tuesday', 'Wednesday']}]\n"
     ]
    }
   ],
   "source": [
    "def available_on_night(gamers_list, day):\n",
    "\n",
    "    return [gamer for gamer in gamers_list if day in gamer['availability']]\n",
    "\n",
    "attending_game_night = available_on_night(gamers, game_night)\n",
    "print(attending_game_night)\n",
    "\n"
   ]
  },
  {
   "cell_type": "code",
   "execution_count": 52,
   "metadata": {},
   "outputs": [],
   "source": [
    "form_email = \"\"\"\n",
    "Dear {name},\n",
    "\n",
    "The Sorcery Society is happy to host \"{game}\" night and wishes you will attend. Come by on {day_of_week} and have a blast!\n",
    "\n",
    "Magically Yours,\n",
    "the Sorcery Society\n",
    "\"\"\"\n"
   ]
  },
  {
   "cell_type": "code",
   "execution_count": 53,
   "metadata": {},
   "outputs": [
    {
     "name": "stdout",
     "output_type": "stream",
     "text": [
      "\n",
      "Dear Kimberly Warner,\n",
      "\n",
      "The Sorcery Society is happy to host \"Abruptly Goblins!\" night and wishes you will attend. Come by on Monday and have a blast!\n",
      "\n",
      "Magically Yours,\n",
      "the Sorcery Society\n",
      "\n",
      "\n",
      "Dear Joyce Sellers,\n",
      "\n",
      "The Sorcery Society is happy to host \"Abruptly Goblins!\" night and wishes you will attend. Come by on Monday and have a blast!\n",
      "\n",
      "Magically Yours,\n",
      "the Sorcery Society\n",
      "\n",
      "\n",
      "Dear Joanne Lynn,\n",
      "\n",
      "The Sorcery Society is happy to host \"Abruptly Goblins!\" night and wishes you will attend. Come by on Monday and have a blast!\n",
      "\n",
      "Magically Yours,\n",
      "the Sorcery Society\n",
      "\n",
      "\n",
      "Dear Latasha Bryan,\n",
      "\n",
      "The Sorcery Society is happy to host \"Abruptly Goblins!\" night and wishes you will attend. Come by on Monday and have a blast!\n",
      "\n",
      "Magically Yours,\n",
      "the Sorcery Society\n",
      "\n",
      "\n",
      "Dear Michel Trujillo,\n",
      "\n",
      "The Sorcery Society is happy to host \"Abruptly Goblins!\" night and wishes you will attend. Come by on Monday and have a blast!\n",
      "\n",
      "Magically Yours,\n",
      "the Sorcery Society\n",
      "\n"
     ]
    }
   ],
   "source": [
    "def send_email(gamers_who_can_atttend, day, game):\n",
    "    for gamer in gamers_who_can_atttend:\n",
    "        print(form_email.format(name=gamer['name'], day_of_week=day, game=game))\n",
    "        \n",
    "send_email(attending_game_night, game_night, \"Abruptly Goblins!\")"
   ]
  },
  {
   "cell_type": "code",
   "execution_count": 54,
   "metadata": {},
   "outputs": [],
   "source": [
    "unable_to_attend_best_night = [gamer for gamer in gamers if game_night not in gamer[\"availability\"]]\n",
    "second_night_availability = build_daily_frequency_table()\n",
    "calculate_availability(unable_to_attend_best_night, second_night_availability)\n",
    "second_night = find_best_night(second_night_availability)"
   ]
  },
  {
   "cell_type": "code",
   "execution_count": 55,
   "metadata": {},
   "outputs": [
    {
     "name": "stdout",
     "output_type": "stream",
     "text": [
      "\n",
      "Dear Kimberly Warner,\n",
      "\n",
      "The Sorcery Society is happy to host \"Abruptly Goblins!\" night and wishes you will attend. Come by on Tuesday and have a blast!\n",
      "\n",
      "Magically Yours,\n",
      "the Sorcery Society\n",
      "\n",
      "\n",
      "Dear Thomas Nelson,\n",
      "\n",
      "The Sorcery Society is happy to host \"Abruptly Goblins!\" night and wishes you will attend. Come by on Tuesday and have a blast!\n",
      "\n",
      "Magically Yours,\n",
      "the Sorcery Society\n",
      "\n",
      "\n",
      "Dear James Barnes Jr.,\n",
      "\n",
      "The Sorcery Society is happy to host \"Abruptly Goblins!\" night and wishes you will attend. Come by on Tuesday and have a blast!\n",
      "\n",
      "Magically Yours,\n",
      "the Sorcery Society\n",
      "\n",
      "\n",
      "Dear Michel Trujillo,\n",
      "\n",
      "The Sorcery Society is happy to host \"Abruptly Goblins!\" night and wishes you will attend. Come by on Tuesday and have a blast!\n",
      "\n",
      "Magically Yours,\n",
      "the Sorcery Society\n",
      "\n"
     ]
    }
   ],
   "source": [
    "available_second_game_night = available_on_night(gamers, second_night)\n",
    "send_email(available_second_game_night, second_night, \"Abruptly Goblins!\")"
   ]
  }
 ],
 "metadata": {
  "kernelspec": {
   "display_name": "Python 3",
   "language": "python",
   "name": "python3"
  },
  "language_info": {
   "codemirror_mode": {
    "name": "ipython",
    "version": 3
   },
   "file_extension": ".py",
   "mimetype": "text/x-python",
   "name": "python",
   "nbconvert_exporter": "python",
   "pygments_lexer": "ipython3",
   "version": "3.12.6"
  }
 },
 "nbformat": 4,
 "nbformat_minor": 2
}
