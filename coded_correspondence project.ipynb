{
 "cells": [
  {
   "cell_type": "code",
   "execution_count": 30,
   "metadata": {},
   "outputs": [
    {
     "name": "stdout",
     "output_type": "stream",
     "text": [
      "hey there! this is an example of a caesar cipher. were you able to decode it? i hope so! send me a message back with the same offset!\n"
     ]
    }
   ],
   "source": [
    "alphabet = 'abcdefghijklmnopqrstuvwxyz'\n",
    "\n",
    "message = 'xuo jxuhu! jxyi yi qd unqcfbu ev q squiqh syfxuh. muhu oek qrbu je tusetu yj? y xefu ie! iudt cu q cuiiqwu rqsa myjx jxu iqcu evviuj!'\n",
    "\n",
    "translated_message = ''\n",
    "\n",
    "for character in message: \n",
    "    if character in alphabet:\n",
    "        character_value = alphabet.find(character)\n",
    "        translated_message += alphabet[(character_value + 10) % 26]\n",
    "    else: \n",
    "        translated_message += character\n",
    "print(translated_message)\n"
   ]
  },
  {
   "cell_type": "code",
   "execution_count": 31,
   "metadata": {},
   "outputs": [
    {
     "name": "stdout",
     "output_type": "stream",
     "text": [
      "Huo iyijuh! jxyi yi q huqb setu mqo je tusetu, jxqdai I belu yj\n"
     ]
    }
   ],
   "source": [
    "message_for_v = 'Hey sister! this is a real code way to decode, thanks I love it'\n",
    "\n",
    "alphabet = 'abcdefghijklmnopqrstuvwxyz'\n",
    "decode_message = ''\n",
    "\n",
    "for character in message_for_v:\n",
    "    if character in alphabet: \n",
    "        character_value = alphabet.find(character)\n",
    "        decode_message += alphabet[(character_value - 10) % 26]\n",
    "    else: \n",
    "        decode_message += character\n",
    "\n",
    "print (decode_message)"
   ]
  },
  {
   "cell_type": "code",
   "execution_count": 32,
   "metadata": {},
   "outputs": [],
   "source": [
    "def caesar_decode(message, offset):\n",
    "  decoded_message = \"\"\n",
    "\n",
    "  for character in message:\n",
    "    if character in alphabet:\n",
    "      character_value = alphabet.find(character)\n",
    "      decoded_message += alphabet[(character_value + offset) % 26]\n",
    "    else:\n",
    "      decoded_message += character\n",
    "\n",
    "  return decoded_message\n",
    "\n",
    "def caesar_encode(message, offset):\n",
    "  encoded_message = \"\"\n",
    "\n",
    "  for character in message:\n",
    "    if character in alphabet:\n",
    "      character_value = alphabet.find(character)\n",
    "      encoded_message += alphabet[(character_value - offset) % 26]\n",
    "    else:\n",
    "      encoded_message += character\n"
   ]
  },
  {
   "cell_type": "code",
   "execution_count": 33,
   "metadata": {},
   "outputs": [
    {
     "name": "stdout",
     "output_type": "stream",
     "text": [
      "the offset for the second message is fourteen.\n",
      "performing multiple caesar ciphers to code your messages is even more secure!\n"
     ]
    }
   ],
   "source": [
    "message_one = 'jxu evviuj veh jxu iusedt cuiiqwu yi vekhjuud.'\n",
    "\n",
    "print(caesar_decode(message_one, 10))\n",
    "\n",
    "message_two = 'bqdradyuzs ygxfubxq omqemd oubtqde fa oapq kagd yqeemsqe ue qhqz yadq eqogdq!'\n",
    "\n",
    "print(caesar_decode(message_two, 14))"
   ]
  },
  {
   "cell_type": "code",
   "execution_count": 34,
   "metadata": {},
   "outputs": [
    {
     "name": "stdout",
     "output_type": "stream",
     "text": [
      "Offset: 1\n",
      "\t wigjonylm bupy lyhxylyx uff iz nbymy ifx wcjbylm ivmifyny. qyff bupy ni lyuffs mnyj oj iol augy cz qy quhn ni eyyj iol gymmuaym muzy.\n",
      "Offset: 2\n",
      "\t xjhkpozmn cvqz mziyzmzy vgg ja ocznz jgy xdkczmn jwnjgzoz. rzgg cvqz oj mzvggt nozk pk jpm bvhz da rz rvio oj fzzk jpm hznnvbzn nvaz.\n",
      "Offset: 3\n",
      "\t ykilqpano dwra najzanaz whh kb pdaoa khz yeldano kxokhapa. sahh dwra pk nawhhu opal ql kqn cwia eb sa swjp pk gaal kqn iaoowcao owba.\n",
      "Offset: 4\n",
      "\t zljmrqbop exsb obkaboba xii lc qebpb lia zfmebop lyplibqb. tbii exsb ql obxiiv pqbm rm lro dxjb fc tb txkq ql hbbm lro jbppxdbp pxcb.\n",
      "Offset: 5\n",
      "\t amknsrcpq fytc pclbcpcb yjj md rfcqc mjb agnfcpq mzqmjcrc. ucjj fytc rm pcyjjw qrcn sn msp eykc gd uc uylr rm iccn msp kcqqyecq qydc.\n",
      "Offset: 6\n",
      "\t bnlotsdqr gzud qdmcdqdc zkk ne sgdrd nkc bhogdqr narnkdsd. vdkk gzud sn qdzkkx rsdo to ntq fzld he vd vzms sn jddo ntq ldrrzfdr rzed.\n",
      "Offset: 7\n",
      "\t computers have rendered all of these old ciphers obsolete. well have to really step up our game if we want to keep our messages safe.\n",
      "Offset: 8\n",
      "\t dpnqvufst ibwf sfoefsfe bmm pg uiftf pme djqifst pctpmfuf. xfmm ibwf up sfbmmz tufq vq pvs hbnf jg xf xbou up lffq pvs nfttbhft tbgf.\n",
      "Offset: 9\n",
      "\t eqorwvgtu jcxg tgpfgtgf cnn qh vjgug qnf ekrjgtu qduqngvg. ygnn jcxg vq tgcnna uvgr wr qwt icog kh yg ycpv vq mggr qwt oguucigu uchg.\n",
      "Offset: 10\n",
      "\t frpsxwhuv kdyh uhqghuhg doo ri wkhvh rog flskhuv revrohwh. zhoo kdyh wr uhdoob vwhs xs rxu jdph li zh zdqw wr nhhs rxu phvvdjhv vdih.\n",
      "Offset: 11\n",
      "\t gsqtyxivw lezi virhivih epp sj xliwi sph gmtlivw sfwspixi. aipp lezi xs vieppc wxit yt syv keqi mj ai aerx xs oiit syv qiwwekiw weji.\n",
      "Offset: 12\n",
      "\t htruzyjwx mfaj wjsijwji fqq tk ymjxj tqi hnumjwx tgxtqjyj. bjqq mfaj yt wjfqqd xyju zu tzw lfrj nk bj bfsy yt pjju tzw rjxxfljx xfkj.\n",
      "Offset: 13\n",
      "\t iusvazkxy ngbk xktjkxkj grr ul znkyk urj iovnkxy uhyurkzk. ckrr ngbk zu xkgrre yzkv av uax mgsk ol ck cgtz zu qkkv uax skyygmky yglk.\n",
      "Offset: 14\n",
      "\t jvtwbalyz ohcl yluklylk hss vm aolzl vsk jpwolyz vizvslal. dlss ohcl av ylhssf zalw bw vby nhtl pm dl dhua av rllw vby tlzzhnlz zhml.\n",
      "Offset: 15\n",
      "\t kwuxcbmza pidm zmvlmzml itt wn bpmam wtl kqxpmza wjawtmbm. emtt pidm bw zmittg abmx cx wcz oium qn em eivb bw smmx wcz umaaioma ainm.\n",
      "Offset: 16\n",
      "\t lxvydcnab qjen anwmnanm juu xo cqnbn xum lryqnab xkbxuncn. fnuu qjen cx anjuuh bcny dy xda pjvn ro fn fjwc cx tnny xda vnbbjpnb bjon.\n",
      "Offset: 17\n",
      "\t mywzedobc rkfo boxnobon kvv yp droco yvn mszrobc ylcyvodo. govv rkfo dy bokvvi cdoz ez yeb qkwo sp go gkxd dy uooz yeb wocckqoc ckpo.\n",
      "Offset: 18\n",
      "\t nzxafepcd slgp cpyopcpo lww zq espdp zwo ntaspcd zmdzwpep. hpww slgp ez cplwwj depa fa zfc rlxp tq hp hlye ez vppa zfc xpddlrpd dlqp.\n",
      "Offset: 19\n",
      "\t oaybgfqde tmhq dqzpqdqp mxx ar ftqeq axp oubtqde aneaxqfq. iqxx tmhq fa dqmxxk efqb gb agd smyq ur iq imzf fa wqqb agd yqeemsqe emrq.\n",
      "Offset: 20\n",
      "\t pbzchgref unir eraqrerq nyy bs gurfr byq pvcuref bofbyrgr. jryy unir gb ernyyl fgrc hc bhe tnzr vs jr jnag gb xrrc bhe zrffntrf fnsr.\n",
      "Offset: 21\n",
      "\t qcadihsfg vojs fsbrsfsr ozz ct hvsgs czr qwdvsfg cpgczshs. kszz vojs hc fsozzm ghsd id cif uoas wt ks kobh hc yssd cif asggousg gots.\n",
      "Offset: 22\n",
      "\t rdbejitgh wpkt gtcstgts paa du iwtht das rxewtgh dqhdatit. ltaa wpkt id gtpaan hite je djg vpbt xu lt lpci id ztte djg bthhpvth hput.\n",
      "Offset: 23\n",
      "\t secfkjuhi xqlu hudtuhut qbb ev jxuiu ebt syfxuhi eriebuju. mubb xqlu je huqbbo ijuf kf ekh wqcu yv mu mqdj je auuf ekh cuiiqwui iqvu.\n",
      "Offset: 24\n",
      "\t tfdglkvij yrmv iveuvivu rcc fw kyvjv fcu tzgyvij fsjfcvkv. nvcc yrmv kf ivrccp jkvg lg fli xrdv zw nv nrek kf bvvg fli dvjjrxvj jrwv.\n",
      "Offset: 25\n",
      "\t ugehmlwjk zsnw jwfvwjwv sdd gx lzwkw gdv uahzwjk gtkgdwlw. owdd zsnw lg jwsddq klwh mh gmj ysew ax ow osfl lg cwwh gmj ewkksywk ksxw.\n"
     ]
    }
   ],
   "source": [
    "message_three = 'vhfinmxkl atox kxgwxkxw tee hy maxlx hew vbiaxkl hulhexmx. pxee atox mh kxteer lmxi ni hnk ztfx by px ptgm mh dxxi hnk fxlltzxl ltyx.'\n",
    "\n",
    "for i in range(1, 26):\n",
    "  print(\"Offset: {}\".format(i))\n",
    "  print(\"\\t {}\".format(caesar_decode(message_three, i)))"
   ]
  },
  {
   "cell_type": "markdown",
   "metadata": {
    "collapsed": true
   },
   "source": [
    "#### Step 6: Send a message with the  Vigenère Cipher\n",
    "Great work decoding the message. For your final task, write a function that can encode a message using a given keyword and write out a message to send to Vishal!\n",
    "\n",
    "*As a bonus, try calling your decoder function on the result of your encryption function. You should get the original message back!*"
   ]
  },
  {
   "cell_type": "code",
   "execution_count": null,
   "metadata": {},
   "outputs": [
    {
     "name": "stdout",
     "output_type": "stream",
     "text": [
      "sdiuco nnn blsyphjo tw wtk pplka knkt jalpdna! fgq zdwtsq wzd ppl taas!\n",
      "None\n"
     ]
    }
   ],
   "source": [
    "def vigenere_encode(message, keyword):\n",
    "  keyword_phrase = \"\"\n",
    "  keyword_index = 0\n",
    "\n",
    "  for character in message:\n",
    "    if keyword_index >= len(keyword):\n",
    "      keyword_index = 0\n",
    "    if character in alphabet:\n",
    "      keyword_phrase += keyword[keyword_index]\n",
    "      keyword_index += 1\n",
    "    else:\n",
    "      keyword_phrase += character\n",
    "\n",
    "  encoded_message = \"\"\n",
    "\n",
    "  for i in range(len(message)):\n",
    "    if message[i] in alphabet:\n",
    "      old_character_index = alphabet.find(message[i])\n",
    "      offset_index = alphabet.find(keyword_phrase[i])\n",
    "      new_character = alphabet[(old_character_index - offset_index) % 26]\n",
    "      encoded_message += new_character\n",
    "    else:\n",
    "      encoded_message += message[i]\n",
    "    \n",
    "  return encoded_message\n",
    "\n",
    "vigenere_message_for_v = \"thanks for teaching me all these cool ciphers! you really are the best!\"\n",
    "keyword_for_v = \"besties\"\n",
    "\n",
    "print(vigenere_encode(vigenere_message_for_v, keyword_for_v))\n",
    "print(vigenere_decode(vigenere_encode(vigenere_message_for_v, keyword_for_v), keyword_for_v))"
   ]
  }
 ],
 "metadata": {
  "kernelspec": {
   "display_name": "Python 3",
   "language": "python",
   "name": "python3"
  },
  "language_info": {
   "codemirror_mode": {
    "name": "ipython",
    "version": 3
   },
   "file_extension": ".py",
   "mimetype": "text/x-python",
   "name": "python",
   "nbconvert_exporter": "python",
   "pygments_lexer": "ipython3",
   "version": "3.0.0"
  }
 },
 "nbformat": 4,
 "nbformat_minor": 2
}
